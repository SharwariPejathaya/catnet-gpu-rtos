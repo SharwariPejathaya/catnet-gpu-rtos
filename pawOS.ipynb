{
  "nbformat": 4,
  "nbformat_minor": 0,
  "metadata": {
    "colab": {
      "provenance": [],
      "gpuType": "T4"
    },
    "kernelspec": {
      "name": "python3",
      "display_name": "Python 3"
    },
    "language_info": {
      "name": "python"
    },
    "accelerator": "GPU"
  },
  "cells": [
    {
      "cell_type": "code",
      "execution_count": 1,
      "metadata": {
        "colab": {
          "base_uri": "https://localhost:8080/"
        },
        "id": "0Ydcy26eknK4",
        "outputId": "ec4b904d-c0ac-4b98-e868-c8264b66536d"
      },
      "outputs": [
        {
          "output_type": "stream",
          "name": "stdout",
          "text": [
            "Requirement already satisfied: fastapi in /usr/local/lib/python3.12/dist-packages (0.116.1)\n",
            "Requirement already satisfied: uvicorn in /usr/local/lib/python3.12/dist-packages (0.35.0)\n",
            "Requirement already satisfied: nest-asyncio in /usr/local/lib/python3.12/dist-packages (1.6.0)\n",
            "Collecting pyngrok\n",
            "  Downloading pyngrok-7.3.0-py3-none-any.whl.metadata (8.1 kB)\n",
            "Requirement already satisfied: opencv-python-headless in /usr/local/lib/python3.12/dist-packages (4.12.0.88)\n",
            "Requirement already satisfied: starlette<0.48.0,>=0.40.0 in /usr/local/lib/python3.12/dist-packages (from fastapi) (0.47.3)\n",
            "Requirement already satisfied: pydantic!=1.8,!=1.8.1,!=2.0.0,!=2.0.1,!=2.1.0,<3.0.0,>=1.7.4 in /usr/local/lib/python3.12/dist-packages (from fastapi) (2.11.7)\n",
            "Requirement already satisfied: typing-extensions>=4.8.0 in /usr/local/lib/python3.12/dist-packages (from fastapi) (4.15.0)\n",
            "Requirement already satisfied: click>=7.0 in /usr/local/lib/python3.12/dist-packages (from uvicorn) (8.2.1)\n",
            "Requirement already satisfied: h11>=0.8 in /usr/local/lib/python3.12/dist-packages (from uvicorn) (0.16.0)\n",
            "Requirement already satisfied: PyYAML>=5.1 in /usr/local/lib/python3.12/dist-packages (from pyngrok) (6.0.2)\n",
            "Requirement already satisfied: numpy<2.3.0,>=2 in /usr/local/lib/python3.12/dist-packages (from opencv-python-headless) (2.0.2)\n",
            "Requirement already satisfied: annotated-types>=0.6.0 in /usr/local/lib/python3.12/dist-packages (from pydantic!=1.8,!=1.8.1,!=2.0.0,!=2.0.1,!=2.1.0,<3.0.0,>=1.7.4->fastapi) (0.7.0)\n",
            "Requirement already satisfied: pydantic-core==2.33.2 in /usr/local/lib/python3.12/dist-packages (from pydantic!=1.8,!=1.8.1,!=2.0.0,!=2.0.1,!=2.1.0,<3.0.0,>=1.7.4->fastapi) (2.33.2)\n",
            "Requirement already satisfied: typing-inspection>=0.4.0 in /usr/local/lib/python3.12/dist-packages (from pydantic!=1.8,!=1.8.1,!=2.0.0,!=2.0.1,!=2.1.0,<3.0.0,>=1.7.4->fastapi) (0.4.1)\n",
            "Requirement already satisfied: anyio<5,>=3.6.2 in /usr/local/lib/python3.12/dist-packages (from starlette<0.48.0,>=0.40.0->fastapi) (4.10.0)\n",
            "Requirement already satisfied: idna>=2.8 in /usr/local/lib/python3.12/dist-packages (from anyio<5,>=3.6.2->starlette<0.48.0,>=0.40.0->fastapi) (3.10)\n",
            "Requirement already satisfied: sniffio>=1.1 in /usr/local/lib/python3.12/dist-packages (from anyio<5,>=3.6.2->starlette<0.48.0,>=0.40.0->fastapi) (1.3.1)\n",
            "Downloading pyngrok-7.3.0-py3-none-any.whl (25 kB)\n",
            "Installing collected packages: pyngrok\n",
            "Successfully installed pyngrok-7.3.0\n"
          ]
        }
      ],
      "source": [
        "!pip install fastapi uvicorn nest-asyncio pyngrok opencv-python-headless"
      ]
    },
    {
      "cell_type": "code",
      "source": [
        "!npm install -g localtunnel"
      ],
      "metadata": {
        "colab": {
          "base_uri": "https://localhost:8080/"
        },
        "id": "W_Xwkzb51CRR",
        "outputId": "ea864995-4a22-4f5f-8a1f-ba8ae7531bb0"
      },
      "execution_count": 2,
      "outputs": [
        {
          "output_type": "stream",
          "name": "stdout",
          "text": [
            "\u001b[1G\u001b[0K⠙\u001b[1G\u001b[0K⠹\u001b[1G\u001b[0K⠸\u001b[1G\u001b[0K⠼\u001b[1G\u001b[0K⠴\u001b[1G\u001b[0K⠦\u001b[1G\u001b[0K⠧\u001b[1G\u001b[0K⠇\u001b[1G\u001b[0K⠏\u001b[1G\u001b[0K⠋\u001b[1G\u001b[0K⠙\u001b[1G\u001b[0K⠹\u001b[1G\u001b[0K⠸\u001b[1G\u001b[0K⠼\u001b[1G\u001b[0K⠴\u001b[1G\u001b[0K⠦\u001b[1G\u001b[0K⠧\u001b[1G\u001b[0K⠇\u001b[1G\u001b[0K⠏\u001b[1G\u001b[0K⠋\u001b[1G\u001b[0K⠙\u001b[1G\u001b[0K⠹\u001b[1G\u001b[0K⠸\u001b[1G\u001b[0K⠼\u001b[1G\u001b[0K⠴\u001b[1G\u001b[0K\n",
            "added 22 packages in 3s\n",
            "\u001b[1G\u001b[0K⠦\u001b[1G\u001b[0K\n",
            "\u001b[1G\u001b[0K⠦\u001b[1G\u001b[0K3 packages are looking for funding\n",
            "\u001b[1G\u001b[0K⠦\u001b[1G\u001b[0K  run `npm fund` for details\n",
            "\u001b[1G\u001b[0K⠦\u001b[1G\u001b[0K"
          ]
        }
      ]
    },
    {
      "cell_type": "code",
      "source": [
        "%%writefile pawos_server.py\n",
        "from fastapi import FastAPI, File, UploadFile\n",
        "import cv2\n",
        "import numpy as np\n",
        "import torch\n",
        "import time\n",
        "from torch.cuda.amp import autocast\n",
        "\n",
        "app = FastAPI()\n",
        "device = \"cuda\" if torch.cuda.is_available() else \"cpu\"\n",
        "\n",
        "# Dummy GPU processing function\n",
        "def run_inference(tensor):\n",
        "    with autocast():\n",
        "        dummy = tensor * 2\n",
        "    torch.cuda.synchronize()\n",
        "    return dummy\n",
        "\n",
        "@app.post(\"/upload_frame\")\n",
        "async def upload_frame(frame: UploadFile = File(...)):\n",
        "    # Convert uploaded bytes to NumPy array\n",
        "    file_bytes = np.frombuffer(await frame.read(), np.uint8)\n",
        "    img = cv2.imdecode(file_bytes, cv2.IMREAD_COLOR)\n",
        "\n",
        "    # Convert to tensor for GPU\n",
        "    img = cv2.resize(img, (64, 64))\n",
        "    img = img.transpose(2,0,1) / 255.0\n",
        "    tensor = torch.tensor(img, dtype=torch.float32).unsqueeze(0).to(device)\n",
        "\n",
        "    start = time.time()\n",
        "    output = run_inference(tensor)\n",
        "    end = time.time()\n",
        "    latency_ms = (end - start) * 1000\n",
        "\n",
        "    return {\"status\": \"frame processed\", \"latency_ms\": latency_ms}\n"
      ],
      "metadata": {
        "colab": {
          "base_uri": "https://localhost:8080/"
        },
        "id": "SDL-V3DT1RDC",
        "outputId": "b814e70e-5a05-40a5-bbdc-e15e58ed178e"
      },
      "execution_count": 3,
      "outputs": [
        {
          "output_type": "stream",
          "name": "stdout",
          "text": [
            "Writing pawos_server.py\n"
          ]
        }
      ]
    },
    {
      "cell_type": "code",
      "source": [
        "import nest_asyncio\n",
        "nest_asyncio.apply()\n",
        "\n",
        "import uvicorn\n",
        "\n",
        "import subprocess\n",
        "uvicorn_process = subprocess.Popen(\n",
        "    [\"uvicorn\", \"pawos_server:app\", \"--host\", \"0.0.0.0\", \"--port\", \"8000\"]\n",
        ")\n",
        "print(\"Uvicorn server started in background on port 8000.\")\n"
      ],
      "metadata": {
        "colab": {
          "base_uri": "https://localhost:8080/"
        },
        "id": "Tn2irO8I2ert",
        "outputId": "5f93a959-fb1c-4ea7-dd2a-32de47987876"
      },
      "execution_count": 4,
      "outputs": [
        {
          "output_type": "stream",
          "name": "stdout",
          "text": [
            "Uvicorn server started in background on port 8000.\n"
          ]
        }
      ]
    },
    {
      "cell_type": "code",
      "source": [
        "!npm install -g localtunnel"
      ],
      "metadata": {
        "colab": {
          "base_uri": "https://localhost:8080/"
        },
        "id": "SE_LsWBu3Zft",
        "outputId": "954d6625-db5d-41c0-97ba-fc17d17b43cb"
      },
      "execution_count": 5,
      "outputs": [
        {
          "output_type": "stream",
          "name": "stdout",
          "text": [
            "\u001b[1G\u001b[0K⠙\u001b[1G\u001b[0K⠹\u001b[1G\u001b[0K⠸\u001b[1G\u001b[0K⠼\u001b[1G\u001b[0K⠴\u001b[1G\u001b[0K⠦\u001b[1G\u001b[0K⠧\u001b[1G\u001b[0K⠇\u001b[1G\u001b[0K⠏\u001b[1G\u001b[0K⠋\u001b[1G\u001b[0K⠙\u001b[1G\u001b[0K⠹\u001b[1G\u001b[0K⠸\u001b[1G\u001b[0K⠼\u001b[1G\u001b[0K\n",
            "changed 22 packages in 2s\n",
            "\u001b[1G\u001b[0K⠼\u001b[1G\u001b[0K\n",
            "\u001b[1G\u001b[0K⠼\u001b[1G\u001b[0K3 packages are looking for funding\n",
            "\u001b[1G\u001b[0K⠼\u001b[1G\u001b[0K  run `npm fund` for details\n",
            "\u001b[1G\u001b[0K⠼\u001b[1G\u001b[0K"
          ]
        }
      ]
    },
    {
      "cell_type": "code",
      "source": [
        "import subprocess\n",
        "import time\n",
        "\n",
        "# Kill any existing localtunnel processes\n",
        "!pkill lt\n",
        "\n",
        "# Start localtunnel on port 8000\n",
        "lt_proc = subprocess.Popen(\n",
        "    [\"lt\", \"--port\", \"8000\"],\n",
        "    stdout=subprocess.PIPE,\n",
        "    stderr=subprocess.PIPE\n",
        ")\n",
        "\n",
        "# Wait a few seconds for tunnel to start\n",
        "time.sleep(5)\n",
        "\n",
        "# Read first few lines from stdout to capture URL\n",
        "for i in range(5):\n",
        "    line = lt_proc.stdout.readline().decode(\"utf-8\").strip()\n",
        "    if \"https://\" in line and \".loca.lt\" in line:\n",
        "        public_url = line\n",
        "        break\n",
        "\n",
        "print(\"Localtunnel public URL (use in laptop script):\", public_url)\n"
      ],
      "metadata": {
        "colab": {
          "base_uri": "https://localhost:8080/"
        },
        "id": "bxN-rvFa23BM",
        "outputId": "fa158fbb-b7df-4fe1-fda2-f044970ca0c5"
      },
      "execution_count": 6,
      "outputs": [
        {
          "output_type": "stream",
          "name": "stdout",
          "text": [
            "Localtunnel public URL (use in laptop script): your url is: https://calm-days-shave.loca.lt\n"
          ]
        }
      ]
    },
    {
      "cell_type": "code",
      "source": [
        "%%writefile pawos_server.py\n",
        "from fastapi import FastAPI, File, UploadFile\n",
        "import cv2\n",
        "import numpy as np\n",
        "\n",
        "app = FastAPI()\n",
        "\n",
        "@app.post(\"/upload_frame\")\n",
        "async def upload_frame(frame: UploadFile = File(...)):\n",
        "    try:\n",
        "        # Read uploaded file\n",
        "        file_bytes = await frame.read()\n",
        "        npimg = np.frombuffer(file_bytes, np.uint8)\n",
        "        img = cv2.imdecode(npimg, cv2.IMREAD_COLOR)\n",
        "\n",
        "        if img is None:\n",
        "            return {\"status\": \"failed\", \"reason\": \"Could not decode image\"}\n",
        "\n",
        "        # Print info about received image\n",
        "        print(f\"Received frame: shape={img.shape}\")\n",
        "\n",
        "        # Return confirmation\n",
        "        return {\"status\": \"frame received\", \"shape\": img.shape}\n",
        "\n",
        "    except Exception as e:\n",
        "        print(\"Error processing frame:\", e)\n",
        "        return {\"status\": \"error\", \"detail\": str(e)}\n"
      ],
      "metadata": {
        "colab": {
          "base_uri": "https://localhost:8080/"
        },
        "id": "6a-v-nCg6UxM",
        "outputId": "909fb5a1-a2a5-4f9b-b040-24f6c1e30aaf"
      },
      "execution_count": 7,
      "outputs": [
        {
          "output_type": "stream",
          "name": "stdout",
          "text": [
            "Overwriting pawos_server.py\n"
          ]
        }
      ]
    },
    {
      "cell_type": "code",
      "source": [
        "import subprocess\n",
        "import time\n",
        "\n",
        "# Kill any old processes\n",
        "!pkill lt\n",
        "!pkill uvicorn\n",
        "\n",
        "# Start FastAPI server in background\n",
        "uvicorn_proc = subprocess.Popen(\n",
        "    [\"uvicorn\", \"pawos_server:app\", \"--host\", \"0.0.0.0\", \"--port\", \"8000\"],\n",
        "    stdout=subprocess.PIPE,\n",
        "    stderr=subprocess.PIPE\n",
        ")\n",
        "print(\"FastAPI server started on port 8000.\")\n",
        "\n",
        "# Start Localtunnel to expose port 8000\n",
        "lt_proc = subprocess.Popen(\n",
        "    [\"lt\", \"--port\", \"8000\"],\n",
        "    stdout=subprocess.PIPE,\n",
        "    stderr=subprocess.PIPE\n",
        ")\n",
        "\n",
        "# Wait for tunnel to initialize\n",
        "time.sleep(5)\n",
        "\n",
        "# Capture public URL\n",
        "public_url = None\n",
        "for _ in range(10):\n",
        "    line = lt_proc.stdout.readline().decode(\"utf-8\").strip()\n",
        "    if \"https://\" in line and \".loca.lt\" in line:\n",
        "        public_url = line\n",
        "        break\n",
        "\n",
        "if public_url:\n",
        "    print(\"Localtunnel public URL (use in laptop script):\", public_url)\n",
        "else:\n",
        "    print(\"Could not find Localtunnel URL. Check logs.\")\n"
      ],
      "metadata": {
        "id": "HNv7sRtg6XDI",
        "outputId": "d87cbb6d-7f54-4cb0-a44c-042aa9c1cc9c",
        "colab": {
          "base_uri": "https://localhost:8080/"
        }
      },
      "execution_count": 8,
      "outputs": [
        {
          "output_type": "stream",
          "name": "stdout",
          "text": [
            "FastAPI server started on port 8000.\n",
            "Localtunnel public URL (use in laptop script): your url is: https://pretty-chicken-dance.loca.lt\n"
          ]
        }
      ]
    },
    {
      "cell_type": "code",
      "source": [
        "# ========================\n",
        "# 1. Imports\n",
        "# ========================\n",
        "import torch\n",
        "import torch.nn as nn\n",
        "import torch.nn.functional as F\n",
        "import torch.optim as optim\n",
        "from torchvision import datasets, transforms\n",
        "from torch.utils.data import DataLoader\n",
        "\n",
        "# ========================\n",
        "# 2. Device (GPU if available)\n",
        "# ========================\n",
        "device = torch.device(\"cuda\" if torch.cuda.is_available() else \"cpu\")\n",
        "print(\"Using device:\", device)\n",
        "\n",
        "# ========================\n",
        "# 3. Dataset & Dataloaders\n",
        "# ========================\n",
        "transform = transforms.Compose([\n",
        "    transforms.ToTensor(),\n",
        "    transforms.Normalize((0.5, 0.5, 0.5), (0.5, 0.5, 0.5))  # normalize RGB\n",
        "])\n",
        "\n",
        "train_dataset = datasets.CIFAR10(root='./data', train=True,\n",
        "                                 download=True, transform=transform)\n",
        "train_loader = DataLoader(train_dataset, batch_size=64,\n",
        "                          shuffle=True, num_workers=2)\n",
        "\n",
        "test_dataset = datasets.CIFAR10(root='./data', train=False,\n",
        "                                download=True, transform=transform)\n",
        "test_loader = DataLoader(test_dataset, batch_size=64,\n",
        "                         shuffle=False, num_workers=2)\n",
        "\n",
        "# ========================\n",
        "# 4. CNN Model\n",
        "# ========================\n",
        "class MyCNN(nn.Module):\n",
        "    def __init__(self):\n",
        "        super(MyCNN, self).__init__()\n",
        "        self.conv1 = nn.Conv2d(3, 32, 3, padding=1)\n",
        "        self.conv2 = nn.Conv2d(32, 64, 3, padding=1)\n",
        "        self.pool = nn.MaxPool2d(2, 2)\n",
        "\n",
        "        self.conv3 = nn.Conv2d(64, 128, 3, padding=1)\n",
        "        self.conv4 = nn.Conv2d(128, 128, 3, padding=1)\n",
        "\n",
        "        # Corrected flatten size = 128*2*2 = 512\n",
        "        self.fc1 = nn.Linear(512, 256)\n",
        "        self.fc2 = nn.Linear(256, 10)\n",
        "\n",
        "    def forward(self, x):\n",
        "        x = self.pool(F.relu(self.conv1(x)))\n",
        "        x = self.pool(F.relu(self.conv2(x)))\n",
        "        x = self.pool(F.relu(self.conv3(x)))\n",
        "        x = self.pool(F.relu(self.conv4(x)))\n",
        "        x = torch.flatten(x, 1)\n",
        "        x = F.relu(self.fc1(x))\n",
        "        x = self.fc2(x)\n",
        "        return x\n",
        "\n",
        "model = MyCNN().to(device)\n",
        "print(model)\n",
        "\n",
        "# ========================\n",
        "# 5. Loss & Optimizer\n",
        "# ========================\n",
        "criterion = nn.CrossEntropyLoss()\n",
        "optimizer = optim.Adam(model.parameters(), lr=0.001)\n",
        "\n",
        "# ========================\n",
        "# 6. Training Loop\n",
        "# ========================\n",
        "EPOCHS = 5\n",
        "for epoch in range(EPOCHS):\n",
        "    model.train()\n",
        "    running_loss = 0.0\n",
        "    for batch_idx, (data, target) in enumerate(train_loader):\n",
        "        data, target = data.to(device), target.to(device)\n",
        "\n",
        "        optimizer.zero_grad()\n",
        "        outputs = model(data)\n",
        "        loss = criterion(outputs, target)\n",
        "        loss.backward()\n",
        "        optimizer.step()\n",
        "\n",
        "        running_loss += loss.item()\n",
        "        if batch_idx % 100 == 0:\n",
        "            print(f\"Epoch {epoch+1} [{batch_idx*len(data)}/{len(train_loader.dataset)}] \"\n",
        "                  f\"Loss: {loss.item():.4f}\")\n",
        "\n",
        "    print(f\"Epoch {epoch+1} complete, Avg Loss: {running_loss/len(train_loader):.4f}\")\n",
        "\n",
        "# ========================\n",
        "# 7. Evaluation\n",
        "# ========================\n",
        "model.eval()\n",
        "correct = 0\n",
        "total = 0\n",
        "with torch.no_grad():\n",
        "    for data, target in test_loader:\n",
        "        data, target = data.to(device), target.to(device)\n",
        "        outputs = model(data)\n",
        "        _, predicted = torch.max(outputs, 1)\n",
        "        total += target.size(0)\n",
        "        correct += (predicted == target).sum().item()\n",
        "\n",
        "print(f\"Test Accuracy: {100 * correct / total:.2f}%\")\n"
      ],
      "metadata": {
        "colab": {
          "base_uri": "https://localhost:8080/"
        },
        "id": "AZ7GfCgW-CPI",
        "outputId": "79d7f7a5-c9c4-4c6b-f707-d8a443db7493"
      },
      "execution_count": 9,
      "outputs": [
        {
          "output_type": "stream",
          "name": "stdout",
          "text": [
            "Using device: cuda\n"
          ]
        },
        {
          "output_type": "stream",
          "name": "stderr",
          "text": [
            "100%|██████████| 170M/170M [00:13<00:00, 13.0MB/s]\n"
          ]
        },
        {
          "output_type": "stream",
          "name": "stdout",
          "text": [
            "MyCNN(\n",
            "  (conv1): Conv2d(3, 32, kernel_size=(3, 3), stride=(1, 1), padding=(1, 1))\n",
            "  (conv2): Conv2d(32, 64, kernel_size=(3, 3), stride=(1, 1), padding=(1, 1))\n",
            "  (pool): MaxPool2d(kernel_size=2, stride=2, padding=0, dilation=1, ceil_mode=False)\n",
            "  (conv3): Conv2d(64, 128, kernel_size=(3, 3), stride=(1, 1), padding=(1, 1))\n",
            "  (conv4): Conv2d(128, 128, kernel_size=(3, 3), stride=(1, 1), padding=(1, 1))\n",
            "  (fc1): Linear(in_features=512, out_features=256, bias=True)\n",
            "  (fc2): Linear(in_features=256, out_features=10, bias=True)\n",
            ")\n",
            "Epoch 1 [0/50000] Loss: 2.3111\n",
            "Epoch 1 [6400/50000] Loss: 1.8477\n",
            "Epoch 1 [12800/50000] Loss: 1.6725\n",
            "Epoch 1 [19200/50000] Loss: 1.3306\n",
            "Epoch 1 [25600/50000] Loss: 1.5462\n",
            "Epoch 1 [32000/50000] Loss: 1.5492\n",
            "Epoch 1 [38400/50000] Loss: 1.3590\n",
            "Epoch 1 [44800/50000] Loss: 1.0400\n",
            "Epoch 1 complete, Avg Loss: 1.4784\n",
            "Epoch 2 [0/50000] Loss: 1.2061\n",
            "Epoch 2 [6400/50000] Loss: 1.0737\n",
            "Epoch 2 [12800/50000] Loss: 1.1563\n",
            "Epoch 2 [19200/50000] Loss: 1.0715\n",
            "Epoch 2 [25600/50000] Loss: 0.8155\n",
            "Epoch 2 [32000/50000] Loss: 0.8505\n",
            "Epoch 2 [38400/50000] Loss: 1.0752\n",
            "Epoch 2 [44800/50000] Loss: 0.8714\n",
            "Epoch 2 complete, Avg Loss: 0.9986\n",
            "Epoch 3 [0/50000] Loss: 0.8601\n",
            "Epoch 3 [6400/50000] Loss: 0.9053\n",
            "Epoch 3 [12800/50000] Loss: 0.7772\n",
            "Epoch 3 [19200/50000] Loss: 0.9801\n",
            "Epoch 3 [25600/50000] Loss: 0.8278\n",
            "Epoch 3 [32000/50000] Loss: 0.7306\n",
            "Epoch 3 [38400/50000] Loss: 0.7653\n",
            "Epoch 3 [44800/50000] Loss: 0.5701\n",
            "Epoch 3 complete, Avg Loss: 0.7955\n",
            "Epoch 4 [0/50000] Loss: 0.7076\n",
            "Epoch 4 [6400/50000] Loss: 0.5288\n",
            "Epoch 4 [12800/50000] Loss: 0.7953\n",
            "Epoch 4 [19200/50000] Loss: 0.5440\n",
            "Epoch 4 [25600/50000] Loss: 0.8384\n",
            "Epoch 4 [32000/50000] Loss: 0.6743\n",
            "Epoch 4 [38400/50000] Loss: 0.7381\n",
            "Epoch 4 [44800/50000] Loss: 0.7290\n",
            "Epoch 4 complete, Avg Loss: 0.6636\n",
            "Epoch 5 [0/50000] Loss: 0.3567\n",
            "Epoch 5 [6400/50000] Loss: 0.5343\n",
            "Epoch 5 [12800/50000] Loss: 0.5885\n",
            "Epoch 5 [19200/50000] Loss: 0.4880\n",
            "Epoch 5 [25600/50000] Loss: 0.7296\n",
            "Epoch 5 [32000/50000] Loss: 0.4923\n",
            "Epoch 5 [38400/50000] Loss: 0.4979\n",
            "Epoch 5 [44800/50000] Loss: 0.4298\n",
            "Epoch 5 complete, Avg Loss: 0.5597\n",
            "Test Accuracy: 74.78%\n"
          ]
        }
      ]
    },
    {
      "cell_type": "code",
      "source": [],
      "metadata": {
        "id": "KjU3DQb6tYRp"
      },
      "execution_count": null,
      "outputs": []
    },
    {
      "cell_type": "code",
      "source": [
        "# ========================\n",
        "# 1. Imports\n",
        "# ========================\n",
        "import torch\n",
        "import torch.nn as nn\n",
        "import torch.nn.functional as F\n",
        "import torch.optim as optim\n",
        "from torchvision import datasets, transforms\n",
        "from torch.utils.data import DataLoader\n",
        "import matplotlib.pyplot as plt\n",
        "import numpy as np\n",
        "\n",
        "# ========================\n",
        "# 2. Device (GPU if available)\n",
        "# ========================\n",
        "device = torch.device(\"cuda\" if torch.cuda.is_available() else \"cpu\")\n",
        "print(\"Using device:\", device)\n",
        "\n",
        "# ========================\n",
        "# 3. Dataset & Dataloaders\n",
        "# ========================\n",
        "transform = transforms.Compose([\n",
        "    transforms.ToTensor(),\n",
        "    transforms.Normalize((0.5, 0.5, 0.5), (0.5, 0.5, 0.5))  # normalize RGB\n",
        "])\n",
        "\n",
        "train_dataset = datasets.CIFAR10(root='./data', train=True,\n",
        "                                 download=True, transform=transform)\n",
        "train_loader = DataLoader(train_dataset, batch_size=64,\n",
        "                          shuffle=True, num_workers=2)\n",
        "\n",
        "test_dataset = datasets.CIFAR10(root='./data', train=False,\n",
        "                                download=True, transform=transform)\n",
        "test_loader = DataLoader(test_dataset, batch_size=64,\n",
        "                         shuffle=False, num_workers=2)\n",
        "\n",
        "# ========================\n",
        "# 4. CNN Model\n",
        "# ========================\n",
        "class MyCNN(nn.Module):\n",
        "    def __init__(self):\n",
        "        super(MyCNN, self).__init__()\n",
        "        self.conv1 = nn.Conv2d(3, 32, 3, padding=1)\n",
        "        self.conv2 = nn.Conv2d(32, 64, 3, padding=1)\n",
        "        self.pool = nn.MaxPool2d(2, 2)\n",
        "\n",
        "        self.conv3 = nn.Conv2d(64, 128, 3, padding=1)\n",
        "        self.conv4 = nn.Conv2d(128, 128, 3, padding=1)\n",
        "\n",
        "        # Final feature map size after pooling = 128 * 2 * 2 = 512\n",
        "        self.fc1 = nn.Linear(512, 256)\n",
        "        self.fc2 = nn.Linear(256, 10)\n",
        "\n",
        "    def forward(self, x):\n",
        "        x = self.pool(F.relu(self.conv1(x)))\n",
        "        x = self.pool(F.relu(self.conv2(x)))\n",
        "        x = self.pool(F.relu(self.conv3(x)))\n",
        "        x = self.pool(F.relu(self.conv4(x)))\n",
        "        x = torch.flatten(x, 1)\n",
        "        x = F.relu(self.fc1(x))\n",
        "        x = self.fc2(x)\n",
        "        return x\n",
        "\n",
        "model = MyCNN().to(device)\n",
        "print(model)\n",
        "\n",
        "# ========================\n",
        "# 5. Loss & Optimizer\n",
        "# ========================\n",
        "criterion = nn.CrossEntropyLoss()\n",
        "optimizer = optim.Adam(model.parameters(), lr=0.001)\n",
        "\n",
        "# ========================\n",
        "# 6. Training Loop\n",
        "# ========================\n",
        "EPOCHS = 2   # keep small for quick run\n",
        "for epoch in range(EPOCHS):\n",
        "    model.train()\n",
        "    running_loss = 0.0\n",
        "    for batch_idx, (data, target) in enumerate(train_loader):\n",
        "        data, target = data.to(device), target.to(device)\n",
        "\n",
        "        optimizer.zero_grad()\n",
        "        outputs = model(data)\n",
        "        loss = criterion(outputs, target)\n",
        "        loss.backward()\n",
        "        optimizer.step()\n",
        "\n",
        "        running_loss += loss.item()\n",
        "        if batch_idx % 200 == 0:\n",
        "            print(f\"Epoch {epoch+1}, Step {batch_idx}, Loss: {loss.item():.4f}\")\n",
        "\n",
        "    print(f\"Epoch {epoch+1} complete, Avg Loss: {running_loss/len(train_loader):.4f}\")\n",
        "\n",
        "# ========================\n",
        "# 7. Test some images (focus on 'cat' class)\n",
        "# ========================\n",
        "def imshow(img):\n",
        "    img = img / 2 + 0.5  # unnormalize\n",
        "    npimg = img.numpy()\n",
        "    plt.imshow(np.transpose(npimg, (1, 2, 0)))\n",
        "    plt.show()\n",
        "\n",
        "classes = train_dataset.classes  # CIFAR-10 labels\n",
        "\n",
        "dataiter = iter(test_loader)\n",
        "images, labels = next(dataiter)\n",
        "\n",
        "images, labels = images.to(device), labels.to(device)\n",
        "outputs = model(images)\n",
        "_, predicted = torch.max(outputs, 1)\n",
        "\n",
        "for i in range(8):  # show 8 images\n",
        "    imshow(images[i].cpu())\n",
        "    print(f\"Ground Truth: {classes[labels[i]]}\")\n",
        "    print(f\"Predicted   : {classes[predicted[i]]}\")\n"
      ],
      "metadata": {
        "colab": {
          "base_uri": "https://localhost:8080/",
          "height": 1000
        },
        "id": "PR2728fVbadf",
        "outputId": "26bc383a-e94b-4316-ef0d-0d7b22c00cda"
      },
      "execution_count": 10,
      "outputs": [
        {
          "output_type": "stream",
          "name": "stdout",
          "text": [
            "Using device: cuda\n",
            "MyCNN(\n",
            "  (conv1): Conv2d(3, 32, kernel_size=(3, 3), stride=(1, 1), padding=(1, 1))\n",
            "  (conv2): Conv2d(32, 64, kernel_size=(3, 3), stride=(1, 1), padding=(1, 1))\n",
            "  (pool): MaxPool2d(kernel_size=2, stride=2, padding=0, dilation=1, ceil_mode=False)\n",
            "  (conv3): Conv2d(64, 128, kernel_size=(3, 3), stride=(1, 1), padding=(1, 1))\n",
            "  (conv4): Conv2d(128, 128, kernel_size=(3, 3), stride=(1, 1), padding=(1, 1))\n",
            "  (fc1): Linear(in_features=512, out_features=256, bias=True)\n",
            "  (fc2): Linear(in_features=256, out_features=10, bias=True)\n",
            ")\n",
            "Epoch 1, Step 0, Loss: 2.3016\n",
            "Epoch 1, Step 200, Loss: 1.5877\n",
            "Epoch 1, Step 400, Loss: 1.3074\n",
            "Epoch 1, Step 600, Loss: 1.0885\n",
            "Epoch 1 complete, Avg Loss: 1.4889\n",
            "Epoch 2, Step 0, Loss: 1.1550\n",
            "Epoch 2, Step 200, Loss: 0.9444\n",
            "Epoch 2, Step 400, Loss: 1.0781\n",
            "Epoch 2, Step 600, Loss: 1.0501\n",
            "Epoch 2 complete, Avg Loss: 1.0330\n"
          ]
        },
        {
          "output_type": "display_data",
          "data": {
            "text/plain": [
              "<Figure size 640x480 with 1 Axes>"
            ],
            "image/png": "[encoded data removed]"
          },
          "metadata": {}
        },
        {
          "output_type": "stream",
          "name": "stdout",
          "text": [
            "Ground Truth: cat\n",
            "Predicted   : cat\n"
          ]
        },
        {
          "output_type": "display_data",
          "data": {
            "text/plain": [
              "<Figure size 640x480 with 1 Axes>"
            ],
            "image/png": "[encoded data removed]"
          },
          "metadata": {}
        },
        {
          "output_type": "stream",
          "name": "stdout",
          "text": [
            "Ground Truth: ship\n",
            "Predicted   : ship\n"
          ]
        },
        {
          "output_type": "display_data",
          "data": {
            "text/plain": [
              "<Figure size 640x480 with 1 Axes>"
            ],
            "image/png": "[encoded data removed]"
          },
          "metadata": {}
        },
        {
          "output_type": "stream",
          "name": "stdout",
          "text": [
            "Ground Truth: ship\n",
            "Predicted   : ship\n"
          ]
        },
        {
          "output_type": "display_data",
          "data": {
            "text/plain": [
              "<Figure size 640x480 with 1 Axes>"
            ],
            "image/png": "[encoded data removed]"
          },
          "metadata": {}
        },
        {
          "output_type": "stream",
          "name": "stdout",
          "text": [
            "Ground Truth: airplane\n",
            "Predicted   : airplane\n"
          ]
        },
        {
          "output_type": "display_data",
          "data": {
            "text/plain": [
              "<Figure size 640x480 with 1 Axes>"
            ],
            "image/png": "[encoded data removed]"
          },
          "metadata": {}
        },
        {
          "output_type": "stream",
          "name": "stdout",
          "text": [
            "Ground Truth: frog\n",
            "Predicted   : frog\n"
          ]
        },
        {
          "output_type": "display_data",
          "data": {
            "text/plain": [
              "<Figure size 640x480 with 1 Axes>"
            ],
            "image/png": "[encoded data removed]"
          },
          "metadata": {}
        },
        {
          "output_type": "stream",
          "name": "stdout",
          "text": [
            "Ground Truth: frog\n",
            "Predicted   : frog\n"
          ]
        },
        {
          "output_type": "display_data",
          "data": {
            "text/plain": [
              "<Figure size 640x480 with 1 Axes>"
            ],
            "image/png": "[encoded data removed]"
          },
          "metadata": {}
        },
        {
          "output_type": "stream",
          "name": "stdout",
          "text": [
            "Ground Truth: automobile\n",
            "Predicted   : automobile\n"
          ]
        },
        {
          "output_type": "display_data",
          "data": {
            "text/plain": [
              "<Figure size 640x480 with 1 Axes>"
            ],
            "image/png": "[encoded data removed]"
          },
          "metadata": {}
        },
        {
          "output_type": "stream",
          "name": "stdout",
          "text": [
            "Ground Truth: frog\n",
            "Predicted   : deer\n"
          ]
        }
      ]
    },
    {
      "cell_type": "code",
      "source": [
        "print(\"CUDA available:\", torch.cuda.is_available())\n",
        "print(\"Number of GPUs:\", torch.cuda.device_count())\n",
        "if torch.cuda.is_available():\n",
        "    print(\"GPU name:\", torch.cuda.get_device_name(0))\n"
      ],
      "metadata": {
        "colab": {
          "base_uri": "https://localhost:8080/"
        },
        "id": "VB_bpir4mV1o",
        "outputId": "a5b6e656-6944-4b10-d4c2-895c349b1c09"
      },
      "execution_count": 11,
      "outputs": [
        {
          "output_type": "stream",
          "name": "stdout",
          "text": [
            "CUDA available: True\n",
            "Number of GPUs: 1\n",
            "GPU name: Tesla T4\n"
          ]
        }
      ]
    }
  ]
}